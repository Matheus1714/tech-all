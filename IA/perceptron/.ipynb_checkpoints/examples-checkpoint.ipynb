{
 "cells": [
  {
   "cell_type": "markdown",
   "id": "unexpected-spectacular",
   "metadata": {},
   "source": [
    "# Perceptron"
   ]
  },
  {
   "cell_type": "markdown",
   "id": "logical-expense",
   "metadata": {},
   "source": [
    "![](img/perceptron.png)"
   ]
  },
  {
   "cell_type": "markdown",
   "id": "verbal-willow",
   "metadata": {},
   "source": [
    "## Setup das Bibliotecas Usadas"
   ]
  },
  {
   "cell_type": "code",
   "execution_count": 114,
   "id": "promotional-retrieval",
   "metadata": {
    "scrolled": true
   },
   "outputs": [],
   "source": [
    "import pandas as pd\n",
    "import matplotlib.pyplot as plt\n",
    "from random import random\n",
    "from sklearn.linear_model import LinearRegression, Perceptron\n",
    "from sklearn.preprocessing import MinMaxScaler\n",
    "from sklearn.datasets.samples_generator import make_blobs\n",
    "\n",
    "%matplotlib inline"
   ]
  },
  {
   "cell_type": "markdown",
   "id": "velvet-spirituality",
   "metadata": {},
   "source": [
    "## Exemplo de Classificação"
   ]
  },
  {
   "cell_type": "markdown",
   "id": "least-marshall",
   "metadata": {},
   "source": [
    "### Carregar os Dados"
   ]
  },
  {
   "cell_type": "code",
   "execution_count": 115,
   "id": "amateur-breakdown",
   "metadata": {},
   "outputs": [],
   "source": [
    "x, y = make_blobs(n_samples=100, n_features=2, centers=2, random_state=1234)"
   ]
  },
  {
   "cell_type": "markdown",
   "id": "minimal-contractor",
   "metadata": {},
   "source": [
    "### Gráfico"
   ]
  },
  {
   "cell_type": "code",
   "execution_count": 116,
   "id": "identified-allocation",
   "metadata": {},
   "outputs": [
    {
     "data": {
      "text/plain": [
       "<matplotlib.collections.PathCollection at 0x1e9b785a940>"
      ]
     },
     "execution_count": 116,
     "metadata": {},
     "output_type": "execute_result"
    },
    {
     "data": {
      "image/png": "[encoded data removed]",
      "text/plain": [
       "<Figure size 432x288 with 1 Axes>"
      ]
     },
     "metadata": {
      "needs_background": "light"
     },
     "output_type": "display_data"
    }
   ],
   "source": [
    "plt.scatter(x[:,0], x[:,1], c=y.ravel(), cmap='bwr')"
   ]
  },
  {
   "cell_type": "markdown",
   "id": "leading-thanks",
   "metadata": {},
   "source": [
    "### Mudar Escala do Atributo"
   ]
  },
  {
   "cell_type": "code",
   "execution_count": 117,
   "id": "wrong-hungarian",
   "metadata": {},
   "outputs": [],
   "source": [
    "minmax = MinMaxScaler(feature_range=(-1, 1))\n",
    "x = minmax.fit_transform(x.astype(np.float64))"
   ]
  },
  {
   "cell_type": "markdown",
   "id": "bacterial-hearts",
   "metadata": {},
   "source": [
    "### Gerar Modelo de Classificação no Sklearn"
   ]
  },
  {
   "cell_type": "code",
   "execution_count": 118,
   "id": "infinite-township",
   "metadata": {},
   "outputs": [
    {
     "name": "stdout",
     "output_type": "stream",
     "text": [
      "w:  [[1.13553221 0.70396409]]\n",
      "b:  [0.]\n"
     ]
    }
   ],
   "source": [
    "clf = Perceptron()\n",
    "clf.fit(x, y)\n",
    "print(\"w: \", clf.coef_)\n",
    "print(\"b: \", clf.intercept_)"
   ]
  },
  {
   "cell_type": "markdown",
   "id": "particular-contributor",
   "metadata": {},
   "source": [
    "### Implementação Perceptron"
   ]
  },
  {
   "cell_type": "code",
   "execution_count": 119,
   "id": "linear-garden",
   "metadata": {},
   "outputs": [
    {
     "name": "stdout",
     "output_type": "stream",
     "text": [
      "step 0: 7\n",
      "step 100: 0\n",
      "step 200: 0\n",
      "step 300: 0\n",
      "step 400: 0\n",
      "step 500: 0\n",
      "step 600: 0\n",
      "step 700: 0\n",
      "step 800: 0\n",
      "step 900: 0\n",
      "step 1000: 0\n",
      "w:  [0.8528326895202483, 0.7104340375350877]\n",
      "b:  0.1140250133953623\n"
     ]
    }
   ],
   "source": [
    "D = x.shape[1]\n",
    "w = [2*random() - 1 for i in range(D)]\n",
    "b = 2*random()-1\n",
    "learning_rate=0.4\n",
    "\n",
    "for step in range(1001):\n",
    "    cost = 0\n",
    "    for x_n, y_n in zip(x,y):\n",
    "        y_pred = sum([x_i * w_i for x_i, w_i in zip(x_n, w)]) + b\n",
    "        y_pred = 1 if y_pred > 0 else 0\n",
    "        error = y_n - y_pred\n",
    "        w = [w_i + learning_rate * error * x_i for x_i, w_i in zip(x_n, w)]\n",
    "        b = b + learning_rate * error\n",
    "        cost += error**2\n",
    "        \n",
    "    if step%100 == 0:\n",
    "        print('step {0}: {1}'.format(step, cost))\n",
    "    \n",
    "print('w: ', w)\n",
    "print('b: ', b)"
   ]
  },
  {
   "cell_type": "markdown",
   "id": "fewer-court",
   "metadata": {},
   "source": [
    "## Exemplo de Regressão"
   ]
  },
  {
   "cell_type": "markdown",
   "id": "national-crisis",
   "metadata": {},
   "source": [
    "### Carregar Dados"
   ]
  },
  {
   "cell_type": "code",
   "execution_count": 120,
   "id": "ecological-sellers",
   "metadata": {},
   "outputs": [],
   "source": [
    "url = 'https://raw.githubusercontent.com/Matheus1714/IA/master/deep-learning/data/medidas.csv'\n",
    "df = pd.read_csv(url)"
   ]
  },
  {
   "cell_type": "markdown",
   "id": "residential-ghost",
   "metadata": {},
   "source": [
    "### Gráfico"
   ]
  },
  {
   "cell_type": "code",
   "execution_count": 121,
   "id": "flexible-transparency",
   "metadata": {},
   "outputs": [
    {
     "data": {
      "text/plain": [
       "Text(0, 0.5, 'Peso')"
      ]
     },
     "execution_count": 121,
     "metadata": {},
     "output_type": "execute_result"
    },
    {
     "data": {
      "image/png": "[encoded data removed]",
      "text/plain": [
       "<Figure size 432x288 with 1 Axes>"
      ]
     },
     "metadata": {
      "needs_background": "light"
     },
     "output_type": "display_data"
    }
   ],
   "source": [
    "x = df.Altura.values\n",
    "y = df.Peso.values\n",
    "\n",
    "plt.figure()\n",
    "plt.scatter(x, y)\n",
    "plt.xlabel('Altura')\n",
    "plt.ylabel('Peso')"
   ]
  },
  {
   "cell_type": "markdown",
   "id": "following-print",
   "metadata": {},
   "source": [
    "### Mudar Escala do Atributo"
   ]
  },
  {
   "cell_type": "code",
   "execution_count": 122,
   "id": "pending-width",
   "metadata": {},
   "outputs": [],
   "source": [
    "x = x.reshape(-1, 1)\n",
    "minmax = MinMaxScaler(feature_range=(-1, 1))\n",
    "x = minmax.fit_transform(x.astype(np.float64))"
   ]
  },
  {
   "cell_type": "markdown",
   "id": "sensitive-right",
   "metadata": {},
   "source": [
    "### Gerar Modelo de Regressão no Sklearn"
   ]
  },
  {
   "cell_type": "code",
   "execution_count": 123,
   "id": "assigned-indie",
   "metadata": {},
   "outputs": [
    {
     "name": "stdout",
     "output_type": "stream",
     "text": [
      "w:  [33.60164767]\n",
      "b:  74.99636286981102\n"
     ]
    }
   ],
   "source": [
    "reg = LinearRegression()\n",
    "reg.fit(x,y)\n",
    "print(\"w: \", reg.coef_)\n",
    "print(\"b: \", reg.intercept_)"
   ]
  },
  {
   "cell_type": "markdown",
   "id": "italic-typing",
   "metadata": {},
   "source": [
    "### Implementação Perceptron"
   ]
  },
  {
   "cell_type": "code",
   "execution_count": 124,
   "id": "marine-package",
   "metadata": {},
   "outputs": [
    {
     "name": "stdout",
     "output_type": "stream",
     "text": [
      "step 0: 271393.20852673554\n",
      "step 100: 2629.0240932045494\n",
      "step 200: 2629.024092905569\n",
      "step 300: 2629.024092905569\n",
      "step 400: 2629.024092905569\n",
      "step 500: 2629.024092905569\n",
      "step 600: 2629.024092905569\n",
      "step 700: 2629.024092905569\n",
      "step 800: 2629.024092905569\n",
      "step 900: 2629.024092905569\n",
      "step 1000: 2629.024092905569\n",
      "w:  [33.541301438596385]\n",
      "b:  74.44004424754145\n"
     ]
    }
   ],
   "source": [
    "D = x.shape[1]\n",
    "w = [2*random() - 1 for i in range(D)]\n",
    "b = 2*random()-1\n",
    "learning_rate=1e-2\n",
    "\n",
    "for step in range(1001):\n",
    "    cost = 0\n",
    "    for x_n, y_n in zip(x,y):\n",
    "        y_pred = sum([x_i * w_i for x_i, w_i in zip(x_n, w)]) + b\n",
    "        # y_pred = 1 if y_pred > 0 else 0 <-- Linha para Transformar de Classificação para Regressão\n",
    "        error = y_n - y_pred\n",
    "        w = [w_i + learning_rate * error * x_i for x_i, w_i in zip(x_n, w)]\n",
    "        b = b + learning_rate * error\n",
    "        cost += error**2\n",
    "        \n",
    "    if step%100 == 0:\n",
    "        print('step {0}: {1}'.format(step, cost))\n",
    "    \n",
    "print('w: ', w)\n",
    "print('b: ', b)"
   ]
  },
  {
   "cell_type": "code",
   "execution_count": null,
   "id": "ordered-sleeping",
   "metadata": {},
   "outputs": [],
   "source": []
  }
 ],
 "metadata": {
  "kernelspec": {
   "display_name": "Python 3",
   "language": "python",
   "name": "python3"
  },
  "language_info": {
   "codemirror_mode": {
    "name": "ipython",
    "version": 3
   },
   "file_extension": ".py",
   "mimetype": "text/x-python",
   "name": "python",
   "nbconvert_exporter": "python",
   "pygments_lexer": "ipython3",
   "version": "3.8.2"
  }
 },
 "nbformat": 4,
 "nbformat_minor": 5
}
